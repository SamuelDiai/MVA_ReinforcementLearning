{
 "cells": [
  {
   "cell_type": "code",
   "execution_count": 1,
   "metadata": {
    "id": "wOpyG2GXQe_t"
   },
   "outputs": [],
   "source": [
    "import numpy as np\n",
    "import matplotlib.pyplot as plt\n",
    "import time\n",
    "\n",
    "K = 10\n",
    "T = np.int(5e3)\n",
    "true_theta = np.array([[-1], [-1], [3]])\n",
    "phi = np.hstack((np.linspace(0, 5, K).reshape(-1, 1), np.linspace(-3, 1, K).reshape(-1, 1)**2, np.ones((K, 1))))\n",
    "true_reward = phi.dot(true_theta)\n",
    "\n",
    "def draw_reward(arm, phi, theta, sigma):\n",
    "    \"\"\"\n",
    "    Generating reward for each arm\n",
    "    \"\"\"\n",
    "    # print(\"rand : \", np.random.randn())\n",
    "    return np.dot(phi[arm], theta) + sigma*np.random.randn()"
   ]
  },
  {
   "cell_type": "markdown",
   "metadata": {
    "id": "1366T_bqQny8"
   },
   "source": [
    "# LinUCB"
   ]
  },
  {
   "cell_type": "code",
   "execution_count": 101,
   "metadata": {
    "id": "fcHumQctQnPT"
   },
   "outputs": [],
   "source": [
    "# def compute_quantities(phi, a, R, t, lambda_ = 0):\n",
    "#     matrix = np.einsum('ij,ik->jk', phi[a[:t]],  phi[a[:t]]) + lambda_*np.eye(phi.shape[1])\n",
    "#     b = np.sum(phi[a[:t]] * R[:t, None], axis = 0)\n",
    "#     inv = np.linalg.inv(matrix)\n",
    "#     theta = inv.dot(b)\n",
    "#     return theta[:, None], phi.dot(theta).reshape(-1) , inv\n",
    "\n",
    "def compute_quantities(phi, a, R, t, lambda_):\n",
    "    matrix = np.multiply(phi[a[:t]][:,:,np.newaxis], phi[a[:t]][:,np.newaxis, :]).sum(axis=0)+ lambda_*np.eye(phi.shape[1])\n",
    "    b = np.sum(phi[a[:t]] * R[:t, None], axis = 0)\n",
    "    inv = np.linalg.inv(matrix)\n",
    "    theta = inv.dot(b)\n",
    "    return theta[:, None], phi.dot(theta).reshape(-1) , inv\n",
    "\n",
    "def choose_arm_ucb(mu_estim, phi, inv, alpha):\n",
    "    \"\"\"\n",
    "    Choose arm with gumbel uncertainty\n",
    "    \"\"\"\n",
    "#     print(inv)\n",
    "#     print((phi).dot(inv.dot(phi.T)))\n",
    "    I = mu_estim + alpha * np.multiply(phi.dot(inv), phi).sum(axis=1)\n",
    "#     I = mu_estim + alpha * np.sqrt((phi).dot(inv.dot(phi.T)))\n",
    "#     print(I)\n",
    "    return np.argmax(I)\n",
    "\n",
    "def bandit_ucb(K, T, phi, true_theta, sigma,  alpha, training_ini = 100, lambda_= 0):\n",
    "    \"\"\"\n",
    "    Simulate bandit algorithm\n",
    "    \"\"\"\n",
    "    # Cumulative reward for each arm\n",
    "    R = np.zeros(T)\n",
    "    # Number of time armed pulled\n",
    "    N = np.zeros(K)\n",
    "    # Stored actions\n",
    "    a = -1 * np.ones(T, dtype=np.int)\n",
    "    list_estimates = []\n",
    "    # Expected true reward\n",
    "    true_reward = phi.dot(true_theta)\n",
    "    Regret = np.zeros(T+1)\n",
    "    # L2 distance for theta\n",
    "    L2_dist = np.zeros(T)\n",
    "    theta_estimate = np.random.randn(phi.shape[1], 1)\n",
    "    list_estimates = [theta_estimate]\n",
    "    L2_dist[0] = np.linalg.norm(theta_estimate - true_theta, ord = 2)\n",
    "    for t in range(T):\n",
    "        if t > training_ini: \n",
    "            theta_estimate, mu_estim, inv = compute_quantities(phi, a, R, t=t, lambda_ = lambda_)\n",
    "            list_estimates.append(theta_estimate)\n",
    "            arm = choose_arm_ucb(mu_estim, phi, inv, alpha)\n",
    "            \n",
    "            # update parameters:\n",
    "        else :\n",
    "            arm = np.random.randint(K)\n",
    "        # Observe reward:\n",
    "        reward = draw_reward(arm, phi, true_theta, sigma)\n",
    "        N[arm] += 1\n",
    "        R[t] = reward\n",
    "        a[t] = arm\n",
    "        Regret[t+1] = Regret[t] + np.max(true_reward) - true_reward[arm]\n",
    "\n",
    "        L2_dist[t] = np.linalg.norm(theta_estimate - true_theta, ord = 2)\n",
    "\n",
    "        Regret[t+1] = Regret[t] + np.max(true_reward) - true_reward[arm]\n",
    "\n",
    "    return theta_estimate, N, R, Regret, L2_dist, a, list_estimates\n"
   ]
  },
  {
   "cell_type": "code",
   "execution_count": 104,
   "metadata": {},
   "outputs": [
    {
     "data": {
      "image/png": "[encoded data removed]",
      "text/plain": [
       "<Figure size 432x288 with 1 Axes>"
      ]
     },
     "metadata": {
      "needs_background": "light"
     },
     "output_type": "display_data"
    },
    {
     "data": {
      "image/png": "[encoded data removed]",
      "text/plain": [
       "<Figure size 432x288 with 1 Axes>"
      ]
     },
     "metadata": {
      "needs_background": "light"
     },
     "output_type": "display_data"
    },
    {
     "data": {
      "image/png": "[encoded data removed]",
      "text/plain": [
       "<Figure size 864x864 with 1 Axes>"
      ]
     },
     "metadata": {
      "needs_background": "light"
     },
     "output_type": "display_data"
    }
   ],
   "source": [
    "theta_estimate, N, R, Regret, L2_dist, a, list_estimates = bandit_ucb(K, T, phi, true_theta, alpha = 5, sigma = 0.1, training_ini = 20, lambda_ = 0.01)\n",
    "\n",
    "plt.bar(range(len(N)), N)\n",
    "plt.title('Arm choosen')\n",
    "plt.xlabel('Arm')\n",
    "plt.show()\n",
    "\n",
    "\n",
    "plt.plot(Regret)\n",
    "plt.title('Regret')\n",
    "plt.xlabel('Iterations')\n",
    "plt.show()\n",
    "\n",
    "\n",
    "plt.figure(figsize=(12,12))\n",
    "plt.plot(L2_dist[L2_dist>0])\n",
    "plt.title('L2 distance between true theta and theta estimate')\n",
    "plt.xlabel('Iterations')\n",
    "plt.show()"
   ]
  },
  {
   "cell_type": "markdown",
   "metadata": {
    "id": "5DB40e-wQ6sF"
   },
   "source": [
    "# SGD methods : "
   ]
  },
  {
   "cell_type": "code",
   "execution_count": 3,
   "metadata": {
    "id": "c_G1n0LNQ6WT"
   },
   "outputs": [],
   "source": [
    "def gradient(theta, t, phi, lambda_, r, a, training_ini):\n",
    "    \"\"\"\n",
    "    Return gradient of the objective function\n",
    "    \"\"\"\n",
    "    fact = (phi[a[t+1 - training_ini:t+1 ]].dot(theta) - r[t+1 - training_ini:t+1 ][:, None])\n",
    "    return 2 * np.einsum('ij,ik->k', fact, phi[a[t+1 - training_ini:t+1 ]])[:, None]/ training_ini  + 2*lambda_*theta\n",
    "    #return 2/(training_ini)*(fact * phi[a[t+1 - training_ini:t+1 ]]).sum(axis=0).reshape(3, 1)\n",
    "    \n",
    "def update_theta(theta_estimate, t, phi, a, R, nu, n_iter, training_ini, lambda_):\n",
    "    \"\"\"\n",
    "    Update the estimate of theta with gradient descent\n",
    "    \"\"\"\n",
    "    for _ in range(n_iter):\n",
    "        theta_estimate = theta_estimate - nu * gradient(theta_estimate, t, phi, lambda_, R, a, training_ini)\n",
    "    return theta_estimate"
   ]
  },
  {
   "cell_type": "markdown",
   "metadata": {
    "id": "_IEuCOORRBCb"
   },
   "source": [
    "# BGE-SGD"
   ]
  },
  {
   "cell_type": "code",
   "execution_count": 4,
   "metadata": {
    "id": "XyS6qy98RAjU"
   },
   "outputs": [],
   "source": [
    "def BGE(C, N, K):\n",
    "    \"\"\"\n",
    "    Return eta, beta for the BGE scheduler\n",
    "    \"\"\"\n",
    "    beta = C * np.ones(K)\n",
    "    for j in range(K):\n",
    "        if N[j]>0:\n",
    "            beta[j] = np.sqrt(C**2 / N[j])\n",
    "    return 1, beta, True\n",
    "\n",
    "def choose_arm(theta_estimate, phi, eta, beta, sampling_gumbel):\n",
    "    \"\"\"\n",
    "    Choose arm with gumbel uncertainty\n",
    "    \"\"\"\n",
    "    K, d = phi.shape\n",
    "    mu = np.dot(phi, theta_estimate).reshape(-1)\n",
    "    gum = np.ones(K)\n",
    "    if sampling_gumbel:\n",
    "        for j in range(K):\n",
    "            gum[j] = np.random.gumbel(loc=0, scale=1)\n",
    "    \n",
    "    I = beta * gum + eta * mu\n",
    "    return np.argmax(I)\n",
    "\n",
    "def bandit(K, T, phi, C, true_theta, nu, sigma, training_ini = 100, lambda_= 0):\n",
    "    \"\"\"\n",
    "    Simulate bandit algorithm\n",
    "    \"\"\"\n",
    "    # Cumulative reward for each arm\n",
    "    R = np.zeros(T)\n",
    "    # Number of time armed pulled\n",
    "    N = np.zeros(K)\n",
    "    # Stored actions\n",
    "    a = -1 * np.ones(T, dtype=np.int)\n",
    "    list_estimates = []\n",
    "    # Expected true reward\n",
    "    true_reward = phi.dot(true_theta)\n",
    "    Regret = np.zeros(T+1)\n",
    "    # L2 distance for theta\n",
    "    L2_dist = np.zeros(T)\n",
    "\n",
    "    for t in range(training_ini):\n",
    "        eta, beta, sampling_gumbel = BGE(C, N, K)\n",
    "        arm = np.random.randint(K)\n",
    "         # Observe reward:\n",
    "        reward = draw_reward(arm, phi, true_theta, sigma)\n",
    "        # update parameters:\n",
    "        N[arm] += 1\n",
    "        R[t] = reward\n",
    "        a[t] = arm\n",
    "        Regret[t+1] = Regret[t] + np.max(true_reward) - true_reward[arm]\n",
    "\n",
    "    theta_avg = phi[a[:training_ini]].dot(phi[a[:training_ini]].T)\n",
    "    matrix = np.einsum('ij,ik->jk', phi[a[:training_ini]],  phi[a[:training_ini]]) + lambda_*np.eye(phi.shape[1])\n",
    "    b = np.sum(phi[a[:training_ini]] * R[:training_ini][:, None], axis = 0)\n",
    "    theta_avg = np.linalg.inv(matrix).dot(b)\n",
    "    theta_estimate = theta_avg.copy()[:, None]\n",
    "    L2_dist[training_ini - 1 ] = np.linalg.norm(theta_avg[:, None] - true_theta, ord = 2)\n",
    "\n",
    "    for t in range(t + 1, T):\n",
    "        # Uncertainty :\n",
    "        eta, beta, sampling_gumbel = BGE(C, N, K)\n",
    "        # Choose arm:\n",
    "        arm = choose_arm(theta_avg, phi, eta, beta, sampling_gumbel)\n",
    "        # Observe reward:\n",
    "        reward = draw_reward(arm, phi, true_theta, sigma)\n",
    "        # update parameters:\n",
    "        N[arm] += 1\n",
    "        R[t] = reward\n",
    "        a[t] = arm\n",
    "\n",
    "        # Estimate theta\n",
    "        if t%training_ini == 0: \n",
    "            theta_estimate = update_theta(theta_estimate, t, phi, a, R, nu = nu/(t // training_ini), n_iter = 1, training_ini = training_ini, lambda_ = lambda_)\n",
    "            list_estimates.append(theta_estimate)\n",
    "            theta_avg = np.mean(list_estimates, axis = 0)\n",
    "            # L2 distance:\n",
    "            L2_dist[t] = np.linalg.norm(theta_avg - true_theta, ord = 2)\n",
    "        # update regret (average)\n",
    "        Regret[t+1] = Regret[t] + np.max(true_reward) - true_reward[arm]\n",
    "\n",
    "\n",
    "    return theta_estimate, N, R, Regret, L2_dist, a"
   ]
  },
  {
   "cell_type": "markdown",
   "metadata": {
    "id": "22Zwz8VYRSO1"
   },
   "source": [
    "# KL-SGD"
   ]
  },
  {
   "cell_type": "code",
   "execution_count": 5,
   "metadata": {
    "id": "eLO8DtN6RW8I"
   },
   "outputs": [],
   "source": [
    "def choose_arm_kl(theta_estimate, phi, N, t, sigma):\n",
    "    \"\"\"\n",
    "    Choose arm with gumbel uncertainty\n",
    "    \"\"\"\n",
    "    K, d = phi.shape\n",
    "    mu = np.dot(phi, theta_estimate).reshape(-1)\n",
    "    \n",
    "    I = np.ones(K)\n",
    "    for j in range(K):\n",
    "        I[j] = mu[j] + np.sqrt(2*sigma**2*np.log(1 + t*np.log(t)**2) / N[j])\n",
    "    return np.argmax(I)\n",
    "\n",
    "def bandit_kl(K, T, phi, true_theta, nu, sigma=0.5, training_ini = 100, lambda_= 0):\n",
    "    \"\"\"\n",
    "    Simulate bandit algorithm\n",
    "    \"\"\"\n",
    "    # Cumulative reward for each arm\n",
    "    R = np.zeros(T)\n",
    "    # Number of time armed pulled\n",
    "    N = np.zeros(K)\n",
    "    # Stored actions\n",
    "    a = -1 * np.ones(T, dtype=np.int)\n",
    "    list_estimates = []\n",
    "    # Expected true reward\n",
    "    true_reward = phi.dot(true_theta)\n",
    "    Regret = np.zeros(T+1)\n",
    "    # L2 distance for theta\n",
    "    L2_dist = np.zeros(T)\n",
    "\n",
    "    for t in range(training_ini):\n",
    "        arm = np.random.randint(K)\n",
    "         # Observe reward:\n",
    "        reward = draw_reward(arm, phi, true_theta, sigma)\n",
    "        # update parameters:\n",
    "        N[arm] += 1\n",
    "        R[t] = reward\n",
    "        a[t] = arm\n",
    "        Regret[t+1] = Regret[t] + np.max(true_reward) - true_reward[arm]\n",
    "\n",
    "    theta_avg = phi[a[:training_ini]].dot(phi[a[:training_ini]].T)\n",
    "    matrix = np.einsum('ij,ik->jk', phi[a[:training_ini]],  phi[a[:training_ini]]) + lambda_*np.eye(phi.shape[1])\n",
    "    b = np.sum(phi[a[:training_ini]] * R[:training_ini][:, None], axis = 0)\n",
    "    theta_avg = np.linalg.inv(matrix).dot(b)\n",
    "    theta_estimate = theta_avg.copy()[:, None]\n",
    "    L2_dist[training_ini - 1 ] = np.linalg.norm(theta_avg[:, None] - true_theta, ord = 2)\n",
    "\n",
    "    for t in range(t + 1, T):\n",
    "        # Choose arm:\n",
    "        arm = choose_arm_kl(theta_avg, phi, N, t, sigma)\n",
    "        # Observe reward:\n",
    "        reward = draw_reward(arm, phi, true_theta, sigma)\n",
    "        # update parameters:\n",
    "        N[arm] += 1\n",
    "        R[t] = reward\n",
    "        a[t] = arm\n",
    "        \n",
    "        # Estimate theta\n",
    "        if t%training_ini == 0: \n",
    "            theta_estimate = update_theta(theta_estimate, t, phi, a, R, nu = nu/(t // training_ini), n_iter = 1, training_ini = training_ini, lambda_ = lambda_)\n",
    "            list_estimates.append(theta_estimate)\n",
    "            theta_avg = np.mean(list_estimates, axis = 0)\n",
    "            # L2 distance:\n",
    "            L2_dist[t] = np.linalg.norm(theta_avg - true_theta, ord = 2)\n",
    "        # update regret (average)\n",
    "        Regret[t+1] = Regret[t] + np.max(true_reward) - true_reward[arm]\n",
    "    return theta_estimate, N, R, Regret, L2_dist, a\n"
   ]
  },
  {
   "cell_type": "markdown",
   "metadata": {
    "id": "bcPdqTrkRoz0"
   },
   "source": [
    "# TS-SGD\n"
   ]
  },
  {
   "cell_type": "code",
   "execution_count": 74,
   "metadata": {
    "id": "uHFOoyiaR2NT"
   },
   "outputs": [],
   "source": [
    "def choose_arm_ts(phi, t, training_ini, T, theta_avg, nu, sigma):\n",
    "    \"\"\"\n",
    "    Choose arm with gumbel uncertainty\n",
    "    \"\"\"\n",
    "    d = phi.shape[1]\n",
    "    alpha = 1/nu\n",
    "    g1 = sigma**2*np.sqrt(0.5*d*np.log(1 + 2 * t * training_ini/d) + 2*np.log(T))\n",
    "    g2 = ( training_ini / alpha ) * np.sqrt(1 + np.log(t))\n",
    "    A = (2*g1**2/( alpha * t ) + 2 * g2**2 / t)*np.eye(d)\n",
    "    epsilon = np.random.multivariate_normal(np.zeros(d), A)[:, None]\n",
    "    theta_ts = theta_avg + epsilon\n",
    "    return np.argmax(np.squeeze(phi.dot(theta_ts)))\n",
    "\n",
    "def bandit_ts(K, T, phi, true_theta, nu, sigma, training_ini = 100, lambda_= 0):\n",
    "    \"\"\"\n",
    "    Simulate bandit algorithm\n",
    "    \"\"\"\n",
    "    # Cumulative reward for each arm\n",
    "    R = np.zeros(T)\n",
    "    # Number of time armed pulled\n",
    "    N = np.zeros(K)\n",
    "    # Stored actions\n",
    "    a = -1 * np.ones(T, dtype=np.int)\n",
    "    list_estimates = []\n",
    "    # Expected true reward\n",
    "    true_reward = phi.dot(true_theta)\n",
    "    Regret = np.zeros(T+1)\n",
    "    # L2 distance for theta\n",
    "    L2_dist = np.zeros(T)\n",
    "\n",
    "    for t in range(training_ini):\n",
    "        arm = np.random.randint(K)\n",
    "         # Observe reward:\n",
    "        reward = draw_reward(arm, phi, true_theta, sigma)\n",
    "        # update parameters:\n",
    "        N[arm] += 1\n",
    "        R[t] = reward\n",
    "        a[t] = arm\n",
    "        Regret[t+1] = Regret[t] + np.max(true_reward) - true_reward[arm]\n",
    "\n",
    "    theta_avg = phi[a[:training_ini]].dot(phi[a[:training_ini]].T)\n",
    "    matrix = np.einsum('ij,ik->jk', phi[a[:training_ini]],  phi[a[:training_ini]]) + lambda_*np.eye(phi.shape[1])\n",
    "    b = np.sum(phi[a[:training_ini]] * R[:training_ini][:, None], axis = 0)\n",
    "    theta_avg = np.linalg.inv(matrix).dot(b)[:, None]\n",
    "    theta_estimate = theta_avg.copy()\n",
    "    L2_dist[training_ini - 1 ] = np.linalg.norm(theta_avg - true_theta, ord = 2)\n",
    "\n",
    "    for t in range(t + 1, T):\n",
    "        # Choose arm:\n",
    "        arm = choose_arm_ts(phi, t, training_ini, T, theta_avg, nu, sigma)\n",
    "        # Observe reward:\n",
    "        reward = draw_reward(arm, phi, true_theta, sigma)\n",
    "        # update parameters:\n",
    "        N[arm] += 1\n",
    "        R[t] = reward\n",
    "        a[t] = arm\n",
    "        \n",
    "        # Estimate theta\n",
    "        if t%training_ini == 0: \n",
    "            theta_estimate = update_theta(theta_estimate, t, phi, a, R, nu = nu/(t // training_ini), n_iter = 1, training_ini = training_ini, lambda_ = lambda_)\n",
    "            list_estimates.append(theta_estimate)\n",
    "            theta_avg = np.mean(list_estimates, axis = 0)\n",
    "            # L2 distance:\n",
    "            L2_dist[t] = np.linalg.norm(theta_avg - true_theta, ord = 2)\n",
    "        # update regret (average)\n",
    "        Regret[t+1] = Regret[t] + np.max(true_reward) - true_reward[arm]\n",
    "\n",
    "\n",
    "    return theta_estimate, N, R, Regret, L2_dist, a"
   ]
  },
  {
   "cell_type": "markdown",
   "metadata": {
    "id": "Iv9wtrYrbAR1"
   },
   "source": [
    "# Single Trial"
   ]
  },
  {
   "cell_type": "code",
   "execution_count": 73,
   "metadata": {
    "colab": {
     "base_uri": "https://localhost:8080/",
     "height": 1000
    },
    "id": "QYM63M14SLC1",
    "outputId": "eaf8db42-4be4-49f8-c812-c713f309ae81",
    "scrolled": false
   },
   "outputs": [
    {
     "name": "stdout",
     "output_type": "stream",
     "text": [
      "0.0\n"
     ]
    },
    {
     "name": "stderr",
     "output_type": "stream",
     "text": [
      "<ipython-input-70-51eb3e30db1b>:19: RuntimeWarning: invalid value encountered in sqrt\n",
      "  I = mu_estim + alpha * np.sqrt((phi).dot(inv.dot(phi.T)))\n"
     ]
    },
    {
     "data": {
      "image/png": "[encoded data removed]",
      "text/plain": [
       "<Figure size 432x288 with 1 Axes>"
      ]
     },
     "metadata": {
      "needs_background": "light"
     },
     "output_type": "display_data"
    },
    {
     "data": {
      "image/png": "[encoded data removed]",
      "text/plain": [
       "<Figure size 432x288 with 1 Axes>"
      ]
     },
     "metadata": {
      "needs_background": "light"
     },
     "output_type": "display_data"
    },
    {
     "data": {
      "image/png": "[encoded data removed]",
      "text/plain": [
       "<Figure size 864x864 with 1 Axes>"
      ]
     },
     "metadata": {
      "needs_background": "light"
     },
     "output_type": "display_data"
    }
   ],
   "source": [
    "import matplotlib.pyplot as plt\n",
    "import time\n",
    "\n",
    "#theta_estimate, N, R, Regret, L2_dist, a = bandit_ts(K, T, phi, true_theta, nu = 1e-2, sigma = 0.5, training_ini = 20, lambda_ = 0.0001)\n",
    "#theta_estimate, N, R, Regret, L2_dist, a, list_estimates = bandit_ucb(K, T, phi, true_theta, sigma = 0.5, training_ini = 20, lambda_ = 0.0001)\n",
    "t1 = time.time()\n",
    "# for _ in range(10): \n",
    "#     theta_estimate, N, R, Regret, L2_dist, a, list_estimates = bandit_ucb(K, T, phi, true_theta, alpha = 0.5, sigma = 0.5, training_ini = 20, lambda_ = 0.01)\n",
    "#     theta_estimate, N, R, Regret, L2_dist, a = bandit(K, T, phi, 0.5*0.5, true_theta, nu = 1e-2, sigma = 0.5, training_ini = 20, lambda_ = 0.0001)\n",
    "print(t1 - time.time())\n",
    "theta_estimate, N, R, Regret, L2_dist, a, list_estimates = bandit_ucb(K, T, phi, true_theta, alpha = 10, sigma = 0.1, training_ini = 20, lambda_ = 0.01)\n",
    "# theta_avg, N, R, Regret, L2_dist, a = bandit_kl(K, T, phi, true_theta, nu = 1e-2, sigma = 0.5, training_ini = 100, lambda_ = 0.0001)\n",
    "plt.bar(range(len(N)), N)\n",
    "plt.title('Arm choosen')\n",
    "plt.xlabel('Arm')\n",
    "plt.show()\n",
    "\n",
    "\n",
    "plt.plot(Regret)\n",
    "plt.title('Regret')\n",
    "plt.xlabel('Iterations')\n",
    "plt.show()\n",
    "\n",
    "\n",
    "plt.figure(figsize=(12,12))\n",
    "plt.plot(L2_dist[L2_dist>0])\n",
    "plt.title('L2 distance between true theta and theta estimate')\n",
    "plt.xlabel('Iterations')\n",
    "plt.show()\n"
   ]
  },
  {
   "cell_type": "markdown",
   "metadata": {},
   "source": [
    "### Grid search thompson sampling"
   ]
  },
  {
   "cell_type": "code",
   "execution_count": 11,
   "metadata": {},
   "outputs": [
    {
     "name": "stdout",
     "output_type": "stream",
     "text": [
      "nu : 0.0001\n",
      "training_ini : 10\n",
      "training_ini : 25\n",
      "training_ini : 50\n",
      "training_ini : 100\n",
      "nu : 0.001\n",
      "training_ini : 10\n",
      "training_ini : 25\n",
      "training_ini : 50\n",
      "training_ini : 100\n",
      "nu : 0.01\n",
      "training_ini : 10\n",
      "training_ini : 25\n",
      "training_ini : 50\n",
      "training_ini : 100\n",
      "nu : 0.5\n",
      "training_ini : 10\n",
      "training_ini : 25\n",
      "training_ini : 50\n",
      "training_ini : 100\n",
      "nu : 0.1\n",
      "training_ini : 10\n",
      "training_ini : 25\n",
      "training_ini : 50\n",
      "training_ini : 100\n",
      "nu : 1\n",
      "training_ini : 10\n",
      "training_ini : 25\n",
      "training_ini : 50\n",
      "training_ini : 100\n"
     ]
    }
   ],
   "source": [
    "nus = [1e-4, 1e-3, 1e-2, 1e-1, 5e-1, 1]\n",
    "# Cs = [1e-1, 0.25, 0.5, 1, 5]\n",
    "taus = [10, 25, 50, 100]\n",
    "\n",
    "\n",
    "regrets = np.zeros((len(nus), len(taus), T + 1))\n",
    "L2_dists = np.zeros((len(nus), len(taus), T))\n",
    "Ns = np.zeros((len(nus), len(Cs), len(taus), K))\n",
    "for idx_nu, nu in enumerate(nus):\n",
    "    print(\"nu :\", nu)\n",
    "#     for idx_C, C in enumerate(Cs):\n",
    "#         print(\"C :\", C)\n",
    "    for idx_tau, training_ini in enumerate(taus):\n",
    "        print(\"training_ini :\", training_ini)\n",
    "        list_Regret, list_N, list_l2 = [], [], []\n",
    "        for _ in range(10):\n",
    "            theta_estimate, N, R, Regret, L2_dist, a = bandit_ts(K, T, phi, true_theta, nu = nu, sigma = 0.5, training_ini = training_ini, lambda_ = 0.01)\n",
    "#                 theta_estimate, N, R, Regret, L2_dist, a = bandit_ts(K, T, phi, C = C, true_theta = true_theta, nu = nu, sigma = 0.5, trainingini = 20, lambda = 0.01)\n",
    "            list_Regret.append(Regret)\n",
    "            list_N.append(N)\n",
    "            list_l2.append(L2_dist)\n",
    "        regret = np.mean(list_Regret, axis = 0)\n",
    "        n = np.mean(list_N, axis = 0)\n",
    "        l2 = np.mean(list_l2, axis = 0)\n",
    "\n",
    "        regrets[idx_nu, idx_tau, :] = regret\n",
    "        Ns[idx_nu, idx_tau, :] = n\n",
    "        L2_dists[idx_nu, idx_tau, :] = l2\n"
   ]
  },
  {
   "cell_type": "code",
   "execution_count": null,
   "metadata": {},
   "outputs": [],
   "source": [
    "np.save('ts_bandits_regrets', regrets)\n",
    "np.save('ts_bandits_l2_dist', L2_dists)\n",
    "np.save('ts_bandits_Ns', Ns)"
   ]
  },
  {
   "cell_type": "markdown",
   "metadata": {},
   "source": [
    "### Grid search KL"
   ]
  },
  {
   "cell_type": "code",
   "execution_count": 38,
   "metadata": {},
   "outputs": [
    {
     "name": "stdout",
     "output_type": "stream",
     "text": [
      "nu : 0.0001\n",
      "training_ini : 10\n"
     ]
    },
    {
     "name": "stderr",
     "output_type": "stream",
     "text": [
      "<ipython-input-5-aada74015c9a>:10: RuntimeWarning: divide by zero encountered in double_scalars\n",
      "  I[j] = mu[j] + np.sqrt(2*sigma**2*np.log(1 + t*np.log(t)**2) / N[j])\n"
     ]
    },
    {
     "name": "stdout",
     "output_type": "stream",
     "text": [
      "training_ini : 25\n",
      "training_ini : 50\n",
      "training_ini : 100\n",
      "nu : 0.001\n",
      "training_ini : 10\n",
      "training_ini : 25\n",
      "training_ini : 50\n",
      "training_ini : 100\n",
      "nu : 0.01\n",
      "training_ini : 10\n",
      "training_ini : 25\n",
      "training_ini : 50\n",
      "training_ini : 100\n",
      "nu : 0.1\n",
      "training_ini : 10\n",
      "training_ini : 25\n",
      "training_ini : 50\n",
      "training_ini : 100\n",
      "nu : 0.5\n",
      "training_ini : 10\n",
      "training_ini : 25\n",
      "training_ini : 50\n",
      "training_ini : 100\n",
      "nu : 1\n",
      "training_ini : 10\n",
      "training_ini : 25\n",
      "training_ini : 50\n",
      "training_ini : 100\n"
     ]
    }
   ],
   "source": [
    "nus = [1e-4, 1e-3, 1e-2, 1e-1, 5e-1, 1]\n",
    "# Cs = [1e-1, 0.25, 0.5, 1, 5]\n",
    "taus = [10, 25, 50, 100]\n",
    "\n",
    "\n",
    "regrets = np.zeros((len(nus), len(taus), T + 1))\n",
    "L2_dists = np.zeros((len(nus), len(taus), T))\n",
    "Ns = np.zeros((len(nus), len(Cs), len(taus), K))\n",
    "for idx_nu, nu in enumerate(nus):\n",
    "    print(\"nu :\", nu)\n",
    "#     for idx_C, C in enumerate(Cs):\n",
    "#         print(\"C :\", C)\n",
    "    for idx_tau, training_ini in enumerate(taus):\n",
    "        print(\"training_ini :\", training_ini)\n",
    "        list_Regret, list_N, list_l2 = [], [], []\n",
    "        for _ in range(10):\n",
    "            theta_estimate, N, R, Regret, L2_dist, a = bandit_kl(K, T, phi, true_theta, nu = nu, sigma = 0.5, training_ini = training_ini, lambda_ = 0.01)\n",
    "#                 theta_estimate, N, R, Regret, L2_dist, a = bandit_ts(K, T, phi, C = C, true_theta = true_theta, nu = nu, sigma = 0.5, trainingini = 20, lambda = 0.01)\n",
    "            list_Regret.append(Regret)\n",
    "            list_N.append(N)\n",
    "            list_l2.append(L2_dist)\n",
    "        regret = np.mean(list_Regret, axis = 0)\n",
    "        n = np.mean(list_N, axis = 0)\n",
    "        l2 = np.mean(list_l2, axis = 0)\n",
    "\n",
    "        regrets[idx_nu, idx_tau, :] = regret\n",
    "        Ns[idx_nu, idx_tau, :] = n\n",
    "        L2_dists[idx_nu, idx_tau, :] = l2"
   ]
  },
  {
   "cell_type": "code",
   "execution_count": null,
   "metadata": {},
   "outputs": [],
   "source": [
    "np.save('kl_bandits_regrets', regrets)\n",
    "np.save('kl_bandits_l2_dist', L2_dists)\n",
    "np.save('kl_bandits_Ns', Ns)"
   ]
  },
  {
   "cell_type": "markdown",
   "metadata": {},
   "source": [
    "### Grid search LinUCB"
   ]
  },
  {
   "cell_type": "code",
   "execution_count": 136,
   "metadata": {},
   "outputs": [
    {
     "name": "stdout",
     "output_type": "stream",
     "text": [
      "C : 0.1\n",
      "C : 0.25\n",
      "C : 0.5\n",
      "C : 1\n",
      "C : 5\n"
     ]
    }
   ],
   "source": [
    "# nus = [1e-4, 1e-3, 1e-2, 1e-1, 5e-1, 1]\n",
    "Cs = [1e-1, 0.25, 0.5, 1, 5]\n",
    "# taus = [10, 25, 50, 100]\n",
    "\n",
    "\n",
    "regrets = np.zeros((len(Cs), T + 1))\n",
    "L2_dists = np.zeros((len(Cs), T))\n",
    "Ns = np.zeros((len(nus), len(Cs), len(taus), K))\n",
    "# for idx_nu, nu in enumerate(nus):\n",
    "#     print(\"nu :\", nu)\n",
    "for idx_C, C in enumerate(Cs):\n",
    "    print(\"C :\", C)\n",
    "#     for idx_tau, training_ini in enumerate(taus):\n",
    "#         print(\"training_ini :\", training_ini)\n",
    "    list_Regret, list_N, list_l2 = [], [], []\n",
    "    for _ in range(10):\n",
    "#             theta_estimate, N, R, Regret, L2_dist, a = bandit_ts(K, T, phi, true_theta, nu = nu, sigma = 0.5, training_ini = training_ini, lambda_ = 0.01)\n",
    "        theta_estimate, N, R, Regret, L2_dist, a, list_estimates =bandit_ucb(K, T, phi, true_theta, alpha = C, sigma = 0.5, training_ini = 10, lambda_ = 0.01)\n",
    "        #                 theta_estimate, N, R, Regret, L2_dist, a = bandit_ts(K, T, phi, C = C, true_theta = true_theta, nu = nu, sigma = 0.5, trainingini = 20, lambda = 0.01)\n",
    "        list_Regret.append(Regret)\n",
    "        list_N.append(N)\n",
    "        list_l2.append(L2_dist)\n",
    "    regret = np.mean(list_Regret, axis = 0)\n",
    "    n = np.mean(list_N, axis = 0)\n",
    "    l2 = np.mean(list_l2, axis = 0)\n",
    "\n",
    "    regrets[idx_C, :] = regret\n",
    "    Ns[idx_C, :] = n\n",
    "    L2_dists[idx_C :] = l2"
   ]
  },
  {
   "cell_type": "code",
   "execution_count": 108,
   "metadata": {},
   "outputs": [
    {
     "name": "stdout",
     "output_type": "stream",
     "text": [
      "3.18 s ± 59.9 ms per loop (mean ± std. dev. of 7 runs, 1 loop each)\n"
     ]
    }
   ],
   "source": [
    "%timeit bandit_ucb(K, T, phi, true_theta, alpha = C, sigma = 0.5, training_ini = 20, lambda_ = 0.01)"
   ]
  },
  {
   "cell_type": "code",
   "execution_count": 139,
   "metadata": {},
   "outputs": [],
   "source": [
    "np.save('ucb_bandits_regrets', regrets)\n",
    "np.save('ucb_bandits_l2_dist', L2_dists)\n",
    "np.save('ucb_bandits_Ns', Ns)"
   ]
  },
  {
   "cell_type": "markdown",
   "metadata": {},
   "source": [
    "### Grid search BGE"
   ]
  },
  {
   "cell_type": "code",
   "execution_count": null,
   "metadata": {},
   "outputs": [],
   "source": [
    "regrets = np.zeros((len(nus), len(Cs), len(taus), T + 1))\n",
    "L2_dists = np.zeros((len(nus), len(Cs), len(taus), T))\n",
    "Ns = np.zeros((len(nus), len(Cs), len(taus), K))\n",
    "for idx_nu, nu in enumerate(nus):\n",
    "    print(\"nu :\", nu)\n",
    "    for idx_C, C in enumerate(Cs):\n",
    "        print(\"C :\", C)\n",
    "        for idx_tau, training_ini in enumerate(taus):\n",
    "            print(\"training_ini :\", training_ini)\n",
    "            list_Regret, list_N, list_l2 = [], [], []\n",
    "            for _ in range(10):\n",
    "                theta_estimate, N, R, Regret, L2_dist, a = bandit(K, T, phi, C = C, true_theta = true_theta, nu = nu, sigma = 0.5, training_ini = training_ini, lambda_ = 0.01)\n",
    "                list_Regret.append(Regret)\n",
    "                list_N.append(N)\n",
    "                list_l2.append(L2_dist)\n",
    "            regret = np.mean(list_Regret, axis = 0)\n",
    "            n = np.mean(list_N, axis = 0)\n",
    "            l2 = np.mean(list_l2, axis = 0)\n",
    "\n",
    "            regrets[idx_nu, idx_C, idx_tau, :] = regret\n",
    "            Ns[idx_nu, idx_C, idx_tau, :] = n\n",
    "            L2_dists[idx_nu, idx_C, idx_tau, :] = l2"
   ]
  },
  {
   "cell_type": "code",
   "execution_count": null,
   "metadata": {},
   "outputs": [],
   "source": [
    "np.save('bge_bandits_regrets', regrets)\n",
    "np.save('bge_bandits_l2_dist', L2_dists)\n",
    "np.save('bge_bandits_Ns', Ns)"
   ]
  },
  {
   "cell_type": "code",
   "execution_count": 109,
   "metadata": {},
   "outputs": [
    {
     "name": "stdout",
     "output_type": "stream",
     "text": [
      "579 ms ± 22.7 ms per loop (mean ± std. dev. of 7 runs, 1 loop each)\n"
     ]
    }
   ],
   "source": [
    "%timeit bandit(K, T, phi, C = C, true_theta = true_theta, nu = nu, sigma = 0.5, training_ini = training_ini, lambda_ = 0.01)"
   ]
  },
  {
   "cell_type": "code",
   "execution_count": 130,
   "metadata": {
    "scrolled": true
   },
   "outputs": [
    {
     "name": "stdout",
     "output_type": "stream",
     "text": [
      "time t = 1000 - n_run = 0\n",
      "time t = 1000 - n_run = 1\n",
      "time t = 1000 - n_run = 2\n",
      "time t = 1000 - n_run = 3\n",
      "time t = 1000 - n_run = 4\n",
      "time t = 1000 - n_run = 5\n",
      "time t = 1000 - n_run = 6\n",
      "time t = 1000 - n_run = 7\n",
      "time t = 1000 - n_run = 8\n",
      "time t = 1000 - n_run = 9\n",
      "time t = 2000 - n_run = 0\n",
      "time t = 2000 - n_run = 1\n",
      "time t = 2000 - n_run = 2\n",
      "time t = 2000 - n_run = 3\n",
      "time t = 2000 - n_run = 4\n",
      "time t = 2000 - n_run = 5\n",
      "time t = 2000 - n_run = 6\n",
      "time t = 2000 - n_run = 7\n",
      "time t = 2000 - n_run = 8\n",
      "time t = 2000 - n_run = 9\n",
      "time t = 5000 - n_run = 0\n",
      "time t = 5000 - n_run = 1\n",
      "time t = 5000 - n_run = 2\n",
      "time t = 5000 - n_run = 3\n",
      "time t = 5000 - n_run = 4\n",
      "time t = 5000 - n_run = 5\n",
      "time t = 5000 - n_run = 6\n",
      "time t = 5000 - n_run = 7\n",
      "time t = 5000 - n_run = 8\n",
      "time t = 5000 - n_run = 9\n",
      "time t = 10000 - n_run = 0\n",
      "time t = 10000 - n_run = 1\n",
      "time t = 10000 - n_run = 2\n",
      "time t = 10000 - n_run = 3\n",
      "time t = 10000 - n_run = 4\n",
      "time t = 10000 - n_run = 5\n",
      "time t = 10000 - n_run = 6\n",
      "time t = 10000 - n_run = 7\n",
      "time t = 10000 - n_run = 8\n",
      "time t = 10000 - n_run = 9\n",
      "time t = 15000 - n_run = 0\n",
      "time t = 15000 - n_run = 1\n",
      "time t = 15000 - n_run = 2\n",
      "time t = 15000 - n_run = 3\n",
      "time t = 15000 - n_run = 4\n",
      "time t = 15000 - n_run = 5\n",
      "time t = 15000 - n_run = 6\n",
      "time t = 15000 - n_run = 7\n",
      "time t = 15000 - n_run = 8\n",
      "time t = 15000 - n_run = 9\n"
     ]
    }
   ],
   "source": [
    "T_list = [1000, 2000, 5000, 10000, 15000]\n",
    "n_run = 10\n",
    "time_list_bge2 = np.zeros((len(T_list), n_run))\n",
    "\n",
    "for i in range(len(T_list)):\n",
    "    for n in range(n_run):\n",
    "        print('time t = {} - n_run = {}'.format(T_list[i], n))\n",
    "        t0 = time.time()\n",
    "        theta_estimate, N, R, Regret, L2_dist, a = bandit(K, T_list[i], phi, C = 0.5, true_theta = true_theta, nu = nu, sigma = 0.5, training_ini = training_ini, lambda_ = 0.01)\n",
    "        t1 = time.time()\n",
    "        time_list_bge2[i, n] = t1 - t0"
   ]
  },
  {
   "cell_type": "code",
   "execution_count": 121,
   "metadata": {
    "scrolled": true
   },
   "outputs": [
    {
     "name": "stdout",
     "output_type": "stream",
     "text": [
      "time t = 1000 - n_run = 0\n",
      "time t = 1000 - n_run = 1\n",
      "time t = 1000 - n_run = 2\n",
      "time t = 1000 - n_run = 3\n",
      "time t = 1000 - n_run = 4\n",
      "time t = 1000 - n_run = 5\n",
      "time t = 1000 - n_run = 6\n",
      "time t = 1000 - n_run = 7\n",
      "time t = 1000 - n_run = 8\n",
      "time t = 1000 - n_run = 9\n",
      "time t = 2000 - n_run = 0\n",
      "time t = 2000 - n_run = 1\n",
      "time t = 2000 - n_run = 2\n",
      "time t = 2000 - n_run = 3\n",
      "time t = 2000 - n_run = 4\n",
      "time t = 2000 - n_run = 5\n",
      "time t = 2000 - n_run = 6\n",
      "time t = 2000 - n_run = 7\n",
      "time t = 2000 - n_run = 8\n",
      "time t = 2000 - n_run = 9\n",
      "time t = 5000 - n_run = 0\n",
      "time t = 5000 - n_run = 1\n",
      "time t = 5000 - n_run = 2\n",
      "time t = 5000 - n_run = 3\n",
      "time t = 5000 - n_run = 4\n",
      "time t = 5000 - n_run = 5\n",
      "time t = 5000 - n_run = 6\n",
      "time t = 5000 - n_run = 7\n",
      "time t = 5000 - n_run = 8\n",
      "time t = 5000 - n_run = 9\n",
      "time t = 10000 - n_run = 0\n",
      "time t = 10000 - n_run = 1\n",
      "time t = 10000 - n_run = 2\n",
      "time t = 10000 - n_run = 3\n",
      "time t = 10000 - n_run = 4\n",
      "time t = 10000 - n_run = 5\n",
      "time t = 10000 - n_run = 6\n",
      "time t = 10000 - n_run = 7\n",
      "time t = 10000 - n_run = 8\n",
      "time t = 10000 - n_run = 9\n",
      "time t = 15000 - n_run = 0\n",
      "time t = 15000 - n_run = 1\n",
      "time t = 15000 - n_run = 2\n",
      "time t = 15000 - n_run = 3\n",
      "time t = 15000 - n_run = 4\n",
      "time t = 15000 - n_run = 5\n",
      "time t = 15000 - n_run = 6\n",
      "time t = 15000 - n_run = 7\n",
      "time t = 15000 - n_run = 8\n",
      "time t = 15000 - n_run = 9\n"
     ]
    }
   ],
   "source": [
    "T_list = [1000, 2000, 5000, 10000, 15000]\n",
    "n_run = 10\n",
    "time_list_ucb = np.zeros((len(T_list), n_run))\n",
    "\n",
    "for i in range(len(T_list)):\n",
    "    for n in range(n_run):\n",
    "        print('time t = {} - n_run = {}'.format(T_list[i], n))\n",
    "        t0 = time.time()\n",
    "        theta_estimate, N, R, Regret, L2_dist, a, list_estimates =bandit_ucb(K, T_list[i], phi, true_theta, alpha = 0.5, sigma = 0.5, training_ini = 20, lambda_ = 0.01)\n",
    "        t1 = time.time()\n",
    "        time_list_bge[i, n] = t1 - t0"
   ]
  },
  {
   "cell_type": "code",
   "execution_count": 132,
   "metadata": {},
   "outputs": [
    {
     "data": {
      "image/png": "[encoded data removed]",
      "text/plain": [
       "<Figure size 432x288 with 1 Axes>"
      ]
     },
     "metadata": {
      "needs_background": "light"
     },
     "output_type": "display_data"
    }
   ],
   "source": [
    "plt.plot(T_list, np.mean(time_list_bge2, axis = 1), label = 'BGE')\n",
    "plt.plot(T_list, np.mean(time_list_bge, axis = 1), label = 'linUCB')\n",
    "plt.legend();"
   ]
  },
  {
   "cell_type": "code",
   "execution_count": 141,
   "metadata": {},
   "outputs": [
    {
     "data": {
      "image/png": "[encoded data removed]",
      "text/plain": [
       "<Figure size 720x504 with 1 Axes>"
      ]
     },
     "metadata": {
      "needs_background": "light"
     },
     "output_type": "display_data"
    }
   ],
   "source": [
    "plt.figure(figsize=(10,7))\n",
    "plt.semilogx(T_list, np.mean(time_list_bge2, axis = 1), label = 'BGE')\n",
    "plt.semilogx(T_list, np.mean(time_list_bge, axis = 1), label = 'linUCB')\n",
    "plt.xlabel('T')\n",
    "plt.ylabel('t (in s)')\n",
    "plt.legend();"
   ]
  },
  {
   "cell_type": "code",
   "execution_count": 129,
   "metadata": {},
   "outputs": [
    {
     "data": {
      "text/plain": [
       "array([0., 0., 0., 0., 0.])"
      ]
     },
     "execution_count": 129,
     "metadata": {},
     "output_type": "execute_result"
    }
   ],
   "source": [
    "np.mean(time_list_ucb, axis = 1)"
   ]
  }
 ],
 "metadata": {
  "colab": {
   "collapsed_sections": [],
   "name": "Bandit.ipynb",
   "provenance": []
  },
  "kernelspec": {
   "display_name": "Python 3",
   "language": "python",
   "name": "python3"
  },
  "language_info": {
   "codemirror_mode": {
    "name": "ipython",
    "version": 3
   },
   "file_extension": ".py",
   "mimetype": "text/x-python",
   "name": "python",
   "nbconvert_exporter": "python",
   "pygments_lexer": "ipython3",
   "version": "3.8.5"
  }
 },
 "nbformat": 4,
 "nbformat_minor": 1
}
